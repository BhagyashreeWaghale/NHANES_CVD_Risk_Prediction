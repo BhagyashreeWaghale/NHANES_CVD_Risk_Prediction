{
 "cells": [
  {
   "cell_type": "markdown",
   "metadata": {
    "id": "DXdQx04qY_GW"
   },
   "source": [
    "# Importing Libraries"
   ]
  },
  {
   "cell_type": "code",
   "execution_count": null,
   "metadata": {
    "id": "3p_gWZ7hYb9T"
   },
   "outputs": [],
   "source": [
    "import os\n",
    "from pathlib import Path\n",
    "import pandas as pd\n",
    "import numpy as np\n",
    "from collections import Counter\n",
    "import seaborn as sns\n",
    "import matplotlib.pyplot as plt\n",
    "import warnings\n",
    "\n",
    "warnings.filterwarnings(\"ignore\")"
   ]
  },
  {
   "cell_type": "markdown",
   "metadata": {
    "id": "kuFkNBSuZF1Q"
   },
   "source": [
    "# Variables Selection\n",
    "\n",
    "1.  Biomarkers\n",
    "    * LBXTC: Total cholesterol\n",
    "    * LBDLDLM: LDL cholesterol\n",
    "    * LBDHDD: HDL cholesterol\n",
    "    * LBXGH: HbA1c\n",
    "    * LBXGLU : Fasting Glucose\n",
    "    * LBXTR :The triglyceride values\n",
    "    * LBXHSCRP: High-sensitivity C-reactive protein\n",
    "    * LBXWBCSI: White blood cell count\n",
    "    * URDACT: Urinary creatinine\n",
    "    * SSAGP: Serum globulin\n",
    "\n",
    "2.  Blood Pressure\n",
    "    * BPXOSY1, BPXOSY2, BPXOSY3: Systolic blood pressure readings\n",
    "    * BPXODI1, BPXODI2, BPXODI3: Diastolic blood pressure readings\n",
    "    * BPXOPLS1, BPXOPLS2, BPXOPLS3: Pulse rate measurements\n",
    "\n",
    "3.  Anthropometric Measures\n",
    "    * BMXBMI: Body mass index\n",
    "    * BMXWAIST: Waist circumference\n",
    "    * BMXHIP: Hip circumference\n",
    "    * BMXWT: Weight\n",
    "    * LUXSMED : Median liver stiffness\n",
    "\n",
    "4.  Demographics\n",
    "    * RIDAGEYR: Age in years\n",
    "    * RIAGENDR: Gender\n",
    "    * RIDRETH1,RIDRETH3 : Ethnicity\n",
    "    * INDFMPIR: Income-to-poverty ratio\n",
    "\n",
    "\n",
    "\n"
   ]
  },
  {
   "cell_type": "code",
   "execution_count": null,
   "metadata": {
    "colab": {
     "base_uri": "https://localhost:8080/"
    },
    "id": "Xm7vu2eMYpz2",
    "outputId": "ff3a4f2e-3fbd-4cbf-e779-a89a12a0e407"
   },
   "outputs": [],
   "source": [
    "varlist = ['SEQN','LBXHSCRP','URDACT','LBXTC','LBDHDD','LBDLDLM','LBXGH','LBXGLU','SSAGP','LBXTR','LBXWBCSI','BMXBMI','BMXHIP','BMXWAIST','BMXWT','LUXSMED',\n",
    "'BPXOSY1','BPXODI1','BPXOSY2','BPXODI2','BPXOSY3','BPXODI3','BPXOPLS1','BPXOPLS2','BPXOPLS3','RIAGENDR','RIDAGEYR','RIDRETH3','INDFMPIR']\n",
    "print(len(varlist))"
   ]
  },
  {
   "cell_type": "markdown",
   "metadata": {
    "id": "FiggjQpNrKiC"
   },
   "source": [
    "# Merging Data on selected variables"
   ]
  },
  {
   "cell_type": "markdown",
   "metadata": {
    "id": "SKa-6rY0bjkf"
   },
   "source": [
    "**Merging Laboratory, Examination and Demographics Data for the selected variables on \"SEQN\" key**\n"
   ]
  },
  {
   "cell_type": "code",
   "execution_count": null,
   "metadata": {
    "id": "z38_ba7OYy2M"
   },
   "outputs": [],
   "source": [
    "# Get the directory of the current script\n",
    "script_dir = Path().resolve()\n",
    "print(script_dir)\n",
    "\n",
    "# Construct the absolute path to the data file\n",
    "data_path = script_dir / \"data\" \n",
    "print(data_path)\n",
    "\n",
    "output_path =  BASE_DIR / \"data\" / \"cleaned\" /\n",
    "print(output_path)\n",
    "\n",
    "dataDf = pd.DataFrame()\n",
    "\n",
    "for filename in os.listdir(data_path):\n",
    "\n",
    "    strdfname = str(str(filename).strip('.csv').split('_')[1])+str('_df')\n",
    "    strdf = pd.read_csv(os.path.join(data_path, filename))\n",
    "\n",
    "    if len(list(strdf['SEQN'].unique())) != strdf.shape[0]:\n",
    "        print(\"Duplicate SEQN ids in file:\",filename)\n",
    "\n",
    "    cols = [i for i in varlist if i in strdf.columns]\n",
    "    strdf = strdf[cols]\n",
    "    strdf.dropna(subset=strdf.columns.difference(['SEQN']), how='all', inplace=True)\n",
    "    if dataDf.empty:\n",
    "        dataDf = dataDf._append(strdf)\n",
    "    else:\n",
    "        dataDf = dataDf.merge(strdf, on='SEQN', how='outer')"
   ]
  },
  {
   "cell_type": "markdown",
   "metadata": {
    "id": "v4pH19HL-A1c"
   },
   "source": [
    "**Checking the data info**\n",
    "\n"
   ]
  },
  {
   "cell_type": "code",
   "execution_count": null,
   "metadata": {
    "colab": {
     "base_uri": "https://localhost:8080/"
    },
    "id": "wAIK708L8778",
    "outputId": "a56aebab-04d0-4936-c682-87b410284227"
   },
   "outputs": [],
   "source": [
    "print(dataDf.shape)\n",
    "print(dataDf.info())"
   ]
  },
  {
   "cell_type": "markdown",
   "metadata": {
    "id": "M9VhtkdZ9nqg"
   },
   "source": [
    "**Descriptive overview of the dataset**"
   ]
  },
  {
   "cell_type": "code",
   "execution_count": null,
   "metadata": {
    "id": "eW3aE60r9FNi"
   },
   "outputs": [],
   "source": [
    "dataDf.describe()"
   ]
  },
  {
   "cell_type": "markdown",
   "metadata": {
    "id": "IEJwtUqH9wjg"
   },
   "source": [
    "**Checking the null values**"
   ]
  },
  {
   "cell_type": "code",
   "execution_count": null,
   "metadata": {
    "id": "_tiufTGq9BiJ"
   },
   "outputs": [],
   "source": [
    "dataDf.isnull().sum()\n"
   ]
  },
  {
   "cell_type": "markdown",
   "metadata": {
    "id": "R1MVZQskrJaM"
   },
   "source": [
    "**Calculating total precentage of missing values in each column**"
   ]
  },
  {
   "cell_type": "code",
   "execution_count": null,
   "metadata": {
    "colab": {
     "base_uri": "https://localhost:8080/",
     "height": 837
    },
    "id": "x8ppVZ_1Kp7z",
    "outputId": "17972ddc-1d58-4e4a-f7dd-d1b927091a57"
   },
   "outputs": [],
   "source": [
    "dataDf.isnull().sum() * 100/len(dataDf)"
   ]
  },
  {
   "cell_type": "markdown",
   "metadata": {
    "id": "OOcewMiJsP_m"
   },
   "source": [
    "**Correlation Heatmap**"
   ]
  },
  {
   "cell_type": "code",
   "execution_count": null,
   "metadata": {
    "colab": {
     "base_uri": "https://localhost:8080/",
     "height": 1000
    },
    "id": "GSG_higzSik2",
    "outputId": "6a2d5c55-417d-4efc-8464-5a48abe4e1ea"
   },
   "outputs": [],
   "source": [
    "corrmat = dataDf.corr()\n",
    "corrmat = corrmat.where(np.triu(np.ones(corrmat.shape), k=1).astype(bool))\n",
    "corr = corrmat.stack().transpose().sort_values(ascending=False).dropna()[0:10]\n",
    "print(\"Top 5 Column Pairs with Highest Correlation:\\n\", corr)\n",
    "plt.figure(figsize=(16,14))\n",
    "ax = sns.heatmap(dataDf.corr(),annot=True,fmt='.2f',annot_kws={\"size\": 8})\n",
    "plt.show()"
   ]
  },
  {
   "cell_type": "markdown",
   "metadata": {
    "id": "9z2b1WkqsW_9"
   },
   "source": [
    "**Distribution Plots**"
   ]
  },
  {
   "cell_type": "code",
   "execution_count": null,
   "metadata": {
    "colab": {
     "base_uri": "https://localhost:8080/",
     "height": 1000
    },
    "id": "tPwoXjRBUS_g",
    "outputId": "8e6a63e8-f0e5-41a1-e368-38383772b83b"
   },
   "outputs": [],
   "source": [
    "for col in dataDf.columns:\n",
    "  if col != 'SEQN':\n",
    "    sns.displot(dataDf[col], kde=True)\n",
    "    plt.title(f'Distribution of {col}')\n",
    "    plt.show()"
   ]
  },
  {
   "cell_type": "code",
   "execution_count": null,
   "metadata": {},
   "outputs": [],
   "source": [
    "dataDf.to_csv(output_path, index=False)"
   ]
  }
 ],
 "metadata": {
  "colab": {
   "provenance": [],
   "toc_visible": true
  },
  "kernelspec": {
   "display_name": "Python 3",
   "name": "python3"
  },
  "language_info": {
   "name": "python"
  }
 },
 "nbformat": 4,
 "nbformat_minor": 0
}
